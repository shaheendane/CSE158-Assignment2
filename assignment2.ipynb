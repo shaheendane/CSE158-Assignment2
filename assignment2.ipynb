{
 "cells": [
  {
   "cell_type": "code",
   "execution_count": 1,
   "metadata": {},
   "outputs": [],
   "source": [
    "import gzip\n",
    "import math\n",
    "import statistics as stats\n",
    "import random\n",
    "from collections import defaultdict\n",
    "import numpy as np\n",
    "import pandas as pd\n",
    "from sklearn import linear_model\n",
    "import json\n",
    "import regex as re"
   ]
  },
  {
   "cell_type": "code",
   "execution_count": 2,
   "metadata": {},
   "outputs": [],
   "source": [
    "#def parse(path):\n",
    "#    g = gzip.open(path, 'r', encoding = 'utf-8')\n",
    "#    for l in g:\n",
    "#        yield json.loads(l)\n",
    "#data = list(parseData(\"Video_Games.json.gz\"))"
   ]
  },
  {
   "cell_type": "code",
   "execution_count": 3,
   "metadata": {},
   "outputs": [],
   "source": [
    "#def parseData(fname):\n",
    "#    for l in open(fname):\n",
    "#        yield eval(l)\n",
    "#        \n",
    "#data = list(parseData(\"Video_Games.json\"))"
   ]
  },
  {
   "cell_type": "code",
   "execution_count": 4,
   "metadata": {},
   "outputs": [],
   "source": [
    "#import json\n",
    "#with open('Video_Games.json') as f:\n",
    "#   data = json.load(f)"
   ]
  },
  {
   "cell_type": "code",
   "execution_count": 5,
   "metadata": {},
   "outputs": [],
   "source": [
    "df = pd.read_json('Video_Games.json.gz', lines=True)"
   ]
  },
  {
   "cell_type": "code",
   "execution_count": 6,
   "metadata": {},
   "outputs": [
    {
     "data": {
      "text/html": [
       "<div>\n",
       "<style scoped>\n",
       "    .dataframe tbody tr th:only-of-type {\n",
       "        vertical-align: middle;\n",
       "    }\n",
       "\n",
       "    .dataframe tbody tr th {\n",
       "        vertical-align: top;\n",
       "    }\n",
       "\n",
       "    .dataframe thead th {\n",
       "        text-align: right;\n",
       "    }\n",
       "</style>\n",
       "<table border=\"1\" class=\"dataframe\">\n",
       "  <thead>\n",
       "    <tr style=\"text-align: right;\">\n",
       "      <th></th>\n",
       "      <th>overall</th>\n",
       "      <th>verified</th>\n",
       "      <th>reviewTime</th>\n",
       "      <th>reviewerID</th>\n",
       "      <th>asin</th>\n",
       "      <th>reviewerName</th>\n",
       "      <th>reviewText</th>\n",
       "      <th>summary</th>\n",
       "      <th>unixReviewTime</th>\n",
       "      <th>vote</th>\n",
       "      <th>style</th>\n",
       "      <th>image</th>\n",
       "    </tr>\n",
       "  </thead>\n",
       "  <tbody>\n",
       "    <tr>\n",
       "      <th>0</th>\n",
       "      <td>1</td>\n",
       "      <td>True</td>\n",
       "      <td>06 9, 2014</td>\n",
       "      <td>A21ROB4YDOZA5P</td>\n",
       "      <td>0439381673</td>\n",
       "      <td>Mary M. Clark</td>\n",
       "      <td>I used to play this game years ago and loved i...</td>\n",
       "      <td>Did not like this</td>\n",
       "      <td>1402272000</td>\n",
       "      <td>NaN</td>\n",
       "      <td>NaN</td>\n",
       "      <td>NaN</td>\n",
       "    </tr>\n",
       "    <tr>\n",
       "      <th>1</th>\n",
       "      <td>3</td>\n",
       "      <td>True</td>\n",
       "      <td>05 10, 2014</td>\n",
       "      <td>A3TNZ2Q5E7HTHD</td>\n",
       "      <td>0439381673</td>\n",
       "      <td>Sarabatya</td>\n",
       "      <td>The game itself worked great but the story lin...</td>\n",
       "      <td>Almost Perfect</td>\n",
       "      <td>1399680000</td>\n",
       "      <td>NaN</td>\n",
       "      <td>NaN</td>\n",
       "      <td>NaN</td>\n",
       "    </tr>\n",
       "    <tr>\n",
       "      <th>2</th>\n",
       "      <td>4</td>\n",
       "      <td>True</td>\n",
       "      <td>02 7, 2014</td>\n",
       "      <td>A1OKRM3QFEATQO</td>\n",
       "      <td>0439381673</td>\n",
       "      <td>Amazon Customer</td>\n",
       "      <td>I had to learn the hard way after ordering thi...</td>\n",
       "      <td>DOES NOT WORK WITH MAC OS unless it is 10.3 or...</td>\n",
       "      <td>1391731200</td>\n",
       "      <td>15</td>\n",
       "      <td>NaN</td>\n",
       "      <td>NaN</td>\n",
       "    </tr>\n",
       "    <tr>\n",
       "      <th>3</th>\n",
       "      <td>1</td>\n",
       "      <td>True</td>\n",
       "      <td>02 7, 2014</td>\n",
       "      <td>A2XO1JFCNEYV3T</td>\n",
       "      <td>0439381673</td>\n",
       "      <td>ColoradoPartyof5</td>\n",
       "      <td>The product description should state this clea...</td>\n",
       "      <td>does not work on Mac OSX</td>\n",
       "      <td>1391731200</td>\n",
       "      <td>11</td>\n",
       "      <td>NaN</td>\n",
       "      <td>NaN</td>\n",
       "    </tr>\n",
       "    <tr>\n",
       "      <th>4</th>\n",
       "      <td>4</td>\n",
       "      <td>True</td>\n",
       "      <td>01 16, 2014</td>\n",
       "      <td>A19WLPIRHD15TH</td>\n",
       "      <td>0439381673</td>\n",
       "      <td>Karen Robinson</td>\n",
       "      <td>I would recommend this learning game for anyon...</td>\n",
       "      <td>Roughing it</td>\n",
       "      <td>1389830400</td>\n",
       "      <td>NaN</td>\n",
       "      <td>NaN</td>\n",
       "      <td>NaN</td>\n",
       "    </tr>\n",
       "  </tbody>\n",
       "</table>\n",
       "</div>"
      ],
      "text/plain": [
       "   overall  verified   reviewTime      reviewerID        asin  \\\n",
       "0        1      True   06 9, 2014  A21ROB4YDOZA5P  0439381673   \n",
       "1        3      True  05 10, 2014  A3TNZ2Q5E7HTHD  0439381673   \n",
       "2        4      True   02 7, 2014  A1OKRM3QFEATQO  0439381673   \n",
       "3        1      True   02 7, 2014  A2XO1JFCNEYV3T  0439381673   \n",
       "4        4      True  01 16, 2014  A19WLPIRHD15TH  0439381673   \n",
       "\n",
       "       reviewerName                                         reviewText  \\\n",
       "0     Mary M. Clark  I used to play this game years ago and loved i...   \n",
       "1         Sarabatya  The game itself worked great but the story lin...   \n",
       "2   Amazon Customer  I had to learn the hard way after ordering thi...   \n",
       "3  ColoradoPartyof5  The product description should state this clea...   \n",
       "4    Karen Robinson  I would recommend this learning game for anyon...   \n",
       "\n",
       "                                             summary  unixReviewTime vote  \\\n",
       "0                                  Did not like this      1402272000  NaN   \n",
       "1                                     Almost Perfect      1399680000  NaN   \n",
       "2  DOES NOT WORK WITH MAC OS unless it is 10.3 or...      1391731200   15   \n",
       "3                           does not work on Mac OSX      1391731200   11   \n",
       "4                                        Roughing it      1389830400  NaN   \n",
       "\n",
       "  style image  \n",
       "0   NaN   NaN  \n",
       "1   NaN   NaN  \n",
       "2   NaN   NaN  \n",
       "3   NaN   NaN  \n",
       "4   NaN   NaN  "
      ]
     },
     "execution_count": 6,
     "metadata": {},
     "output_type": "execute_result"
    }
   ],
   "source": [
    "df[:5]"
   ]
  },
  {
   "cell_type": "markdown",
   "metadata": {},
   "source": [
    "## 1. EDA"
   ]
  },
  {
   "cell_type": "code",
   "execution_count": 57,
   "metadata": {},
   "outputs": [
    {
     "data": {
      "text/html": [
       "<div>\n",
       "<style scoped>\n",
       "    .dataframe tbody tr th:only-of-type {\n",
       "        vertical-align: middle;\n",
       "    }\n",
       "\n",
       "    .dataframe tbody tr th {\n",
       "        vertical-align: top;\n",
       "    }\n",
       "\n",
       "    .dataframe thead th {\n",
       "        text-align: right;\n",
       "    }\n",
       "</style>\n",
       "<table border=\"1\" class=\"dataframe\">\n",
       "  <thead>\n",
       "    <tr style=\"text-align: right;\">\n",
       "      <th></th>\n",
       "      <th>overall</th>\n",
       "      <th>verified</th>\n",
       "      <th>reviewTime</th>\n",
       "      <th>reviewerID</th>\n",
       "      <th>asin</th>\n",
       "      <th>reviewerName</th>\n",
       "      <th>reviewText</th>\n",
       "      <th>summary</th>\n",
       "      <th>unixReviewTime</th>\n",
       "      <th>vote</th>\n",
       "      <th>style</th>\n",
       "      <th>image</th>\n",
       "    </tr>\n",
       "  </thead>\n",
       "  <tbody>\n",
       "    <tr>\n",
       "      <th>2523669</th>\n",
       "      <td>5</td>\n",
       "      <td>False</td>\n",
       "      <td>01 12, 2015</td>\n",
       "      <td>APZYKY0QLRWOB</td>\n",
       "      <td>B00HEZCTBW</td>\n",
       "      <td>Cliff</td>\n",
       "      <td>A good game. The story is impressive with the ...</td>\n",
       "      <td>A good game. The story is impressive with the ...</td>\n",
       "      <td>1421020800</td>\n",
       "      <td>3</td>\n",
       "      <td>NaN</td>\n",
       "      <td>NaN</td>\n",
       "    </tr>\n",
       "    <tr>\n",
       "      <th>1792480</th>\n",
       "      <td>5</td>\n",
       "      <td>True</td>\n",
       "      <td>10 28, 2015</td>\n",
       "      <td>A1BGWIYX5KSTEL</td>\n",
       "      <td>B00TEDK8FQ</td>\n",
       "      <td>Lone Wolf</td>\n",
       "      <td>I like it. It's very spacious and even though ...</td>\n",
       "      <td>Good purchase.</td>\n",
       "      <td>1445990400</td>\n",
       "      <td>NaN</td>\n",
       "      <td>NaN</td>\n",
       "      <td>NaN</td>\n",
       "    </tr>\n",
       "    <tr>\n",
       "      <th>2309637</th>\n",
       "      <td>3</td>\n",
       "      <td>True</td>\n",
       "      <td>01 31, 2016</td>\n",
       "      <td>A2FFFWIOYLUFDM</td>\n",
       "      <td>B00175GC3Q</td>\n",
       "      <td>Brandon Danley</td>\n",
       "      <td>wish it had trophies</td>\n",
       "      <td>Three Stars</td>\n",
       "      <td>1454198400</td>\n",
       "      <td>NaN</td>\n",
       "      <td>{'Edition:': ' Standard', 'Platform:': ' PlayS...</td>\n",
       "      <td>NaN</td>\n",
       "    </tr>\n",
       "    <tr>\n",
       "      <th>1759954</th>\n",
       "      <td>5</td>\n",
       "      <td>True</td>\n",
       "      <td>08 29, 2015</td>\n",
       "      <td>A2S3LBYN4TC9TA</td>\n",
       "      <td>B00R7WKIH4</td>\n",
       "      <td>Jake Brighindi</td>\n",
       "      <td>Fit controllers amazingly. Adds color to plain...</td>\n",
       "      <td>Five Stars</td>\n",
       "      <td>1440806400</td>\n",
       "      <td>NaN</td>\n",
       "      <td>{'Color:': ' Camo-Grip-Series'}</td>\n",
       "      <td>NaN</td>\n",
       "    </tr>\n",
       "    <tr>\n",
       "      <th>308183</th>\n",
       "      <td>4</td>\n",
       "      <td>True</td>\n",
       "      <td>08 31, 2011</td>\n",
       "      <td>A9PQ4LL82MTP9</td>\n",
       "      <td>B000FRU1UM</td>\n",
       "      <td>jkimod</td>\n",
       "      <td>he plays online with a couple of his friends. ...</td>\n",
       "      <td>my 14 y.o. son seems to like it</td>\n",
       "      <td>1314748800</td>\n",
       "      <td>NaN</td>\n",
       "      <td>{'Format:': ' Video Game'}</td>\n",
       "      <td>NaN</td>\n",
       "    </tr>\n",
       "  </tbody>\n",
       "</table>\n",
       "</div>"
      ],
      "text/plain": [
       "         overall  verified   reviewTime      reviewerID        asin  \\\n",
       "2523669        5     False  01 12, 2015   APZYKY0QLRWOB  B00HEZCTBW   \n",
       "1792480        5      True  10 28, 2015  A1BGWIYX5KSTEL  B00TEDK8FQ   \n",
       "2309637        3      True  01 31, 2016  A2FFFWIOYLUFDM  B00175GC3Q   \n",
       "1759954        5      True  08 29, 2015  A2S3LBYN4TC9TA  B00R7WKIH4   \n",
       "308183         4      True  08 31, 2011   A9PQ4LL82MTP9  B000FRU1UM   \n",
       "\n",
       "           reviewerName                                         reviewText  \\\n",
       "2523669           Cliff  A good game. The story is impressive with the ...   \n",
       "1792480       Lone Wolf  I like it. It's very spacious and even though ...   \n",
       "2309637  Brandon Danley                               wish it had trophies   \n",
       "1759954  Jake Brighindi  Fit controllers amazingly. Adds color to plain...   \n",
       "308183           jkimod  he plays online with a couple of his friends. ...   \n",
       "\n",
       "                                                   summary  unixReviewTime  \\\n",
       "2523669  A good game. The story is impressive with the ...      1421020800   \n",
       "1792480                                     Good purchase.      1445990400   \n",
       "2309637                                        Three Stars      1454198400   \n",
       "1759954                                         Five Stars      1440806400   \n",
       "308183                     my 14 y.o. son seems to like it      1314748800   \n",
       "\n",
       "        vote                                              style image  \n",
       "2523669    3                                                NaN   NaN  \n",
       "1792480  NaN                                                NaN   NaN  \n",
       "2309637  NaN  {'Edition:': ' Standard', 'Platform:': ' PlayS...   NaN  \n",
       "1759954  NaN                    {'Color:': ' Camo-Grip-Series'}   NaN  \n",
       "308183   NaN                         {'Format:': ' Video Game'}   NaN  "
      ]
     },
     "execution_count": 57,
     "metadata": {},
     "output_type": "execute_result"
    }
   ],
   "source": [
    "data = df.sample(n = 400000)\n",
    "data[:5]"
   ]
  },
  {
   "cell_type": "markdown",
   "metadata": {},
   "source": [
    "**------------This needs to be cited-------------** <br>\n",
    "Jianmo Ni, Jiacheng Li, Julian McAuley\n",
    "Empirical Methods in Natural Language Processing (EMNLP), 2019"
   ]
  },
  {
   "cell_type": "markdown",
   "metadata": {},
   "source": [
    "The dataset we have chosen to work with are video game reviews on Amazon from 2014. There are 2,565,349 reviews in total, however for the purpose of computation, we have sampled 100,000 reviews. The data consists of 12 features: overall rating, verified (binary), time of review (raw), reviewer ID, product ID, name of reviewer, text of review, summary of product, time of review (unix), helpfulness votes (likes), product style, and attached image. "
   ]
  },
  {
   "cell_type": "markdown",
   "metadata": {},
   "source": [
    "Lets take a look at the data type for each column, and how many non-null values there are. "
   ]
  },
  {
   "cell_type": "code",
   "execution_count": 58,
   "metadata": {},
   "outputs": [
    {
     "name": "stdout",
     "output_type": "stream",
     "text": [
      "<class 'pandas.core.frame.DataFrame'>\n",
      "Int64Index: 400000 entries, 2523669 to 175635\n",
      "Data columns (total 12 columns):\n",
      " #   Column          Non-Null Count   Dtype \n",
      "---  ------          --------------   ----- \n",
      " 0   overall         400000 non-null  int64 \n",
      " 1   verified        400000 non-null  bool  \n",
      " 2   reviewTime      400000 non-null  object\n",
      " 3   reviewerID      400000 non-null  object\n",
      " 4   asin            400000 non-null  object\n",
      " 5   reviewerName    399956 non-null  object\n",
      " 6   reviewText      399745 non-null  object\n",
      " 7   summary         399866 non-null  object\n",
      " 8   unixReviewTime  400000 non-null  int64 \n",
      " 9   vote            69187 non-null   object\n",
      " 10  style           205971 non-null  object\n",
      " 11  image           4476 non-null    object\n",
      "dtypes: bool(1), int64(2), object(9)\n",
      "memory usage: 37.0+ MB\n"
     ]
    }
   ],
   "source": [
    "data.info()"
   ]
  },
  {
   "cell_type": "markdown",
   "metadata": {},
   "source": [
    "Lets add some features, like length of review text and length of summary, and replace NAN values with 0 for votes to perform some basic statistics."
   ]
  },
  {
   "cell_type": "code",
   "execution_count": 59,
   "metadata": {},
   "outputs": [],
   "source": [
    "data = data[['overall', 'reviewTime', 'reviewText', 'summary', 'unixReviewTime', 'vote']]\n",
    "\n",
    "data['vote'] = data['vote'].replace(np.nan, 0).str.replace(',', '').astype(float)\n",
    "data['reviewText'] = data['reviewText'].replace(np.nan, '')\n",
    "data['summary'] = data['summary'].replace(np.nan, '')\n",
    "\n",
    "data['len_reviewText'] = [len(x) for x in data['reviewText']]\n",
    "data['len_summary'] = [len(x) for x in data['summary']]"
   ]
  },
  {
   "cell_type": "code",
   "execution_count": 60,
   "metadata": {},
   "outputs": [
    {
     "data": {
      "text/html": [
       "<div>\n",
       "<style scoped>\n",
       "    .dataframe tbody tr th:only-of-type {\n",
       "        vertical-align: middle;\n",
       "    }\n",
       "\n",
       "    .dataframe tbody tr th {\n",
       "        vertical-align: top;\n",
       "    }\n",
       "\n",
       "    .dataframe thead th {\n",
       "        text-align: right;\n",
       "    }\n",
       "</style>\n",
       "<table border=\"1\" class=\"dataframe\">\n",
       "  <thead>\n",
       "    <tr style=\"text-align: right;\">\n",
       "      <th></th>\n",
       "      <th>overall</th>\n",
       "      <th>vote</th>\n",
       "      <th>len_reviewText</th>\n",
       "      <th>len_summary</th>\n",
       "    </tr>\n",
       "  </thead>\n",
       "  <tbody>\n",
       "    <tr>\n",
       "      <th>count</th>\n",
       "      <td>400000.000000</td>\n",
       "      <td>69187.000000</td>\n",
       "      <td>400000.000000</td>\n",
       "      <td>400000.000000</td>\n",
       "    </tr>\n",
       "    <tr>\n",
       "      <th>mean</th>\n",
       "      <td>4.021913</td>\n",
       "      <td>8.297874</td>\n",
       "      <td>401.701430</td>\n",
       "      <td>23.415335</td>\n",
       "    </tr>\n",
       "    <tr>\n",
       "      <th>std</th>\n",
       "      <td>1.405282</td>\n",
       "      <td>26.797440</td>\n",
       "      <td>825.585574</td>\n",
       "      <td>18.747273</td>\n",
       "    </tr>\n",
       "    <tr>\n",
       "      <th>min</th>\n",
       "      <td>1.000000</td>\n",
       "      <td>2.000000</td>\n",
       "      <td>0.000000</td>\n",
       "      <td>0.000000</td>\n",
       "    </tr>\n",
       "    <tr>\n",
       "      <th>25%</th>\n",
       "      <td>3.000000</td>\n",
       "      <td>2.000000</td>\n",
       "      <td>55.000000</td>\n",
       "      <td>10.000000</td>\n",
       "    </tr>\n",
       "    <tr>\n",
       "      <th>50%</th>\n",
       "      <td>5.000000</td>\n",
       "      <td>4.000000</td>\n",
       "      <td>152.000000</td>\n",
       "      <td>16.000000</td>\n",
       "    </tr>\n",
       "    <tr>\n",
       "      <th>75%</th>\n",
       "      <td>5.000000</td>\n",
       "      <td>7.000000</td>\n",
       "      <td>399.000000</td>\n",
       "      <td>31.000000</td>\n",
       "    </tr>\n",
       "    <tr>\n",
       "      <th>max</th>\n",
       "      <td>5.000000</td>\n",
       "      <td>3744.000000</td>\n",
       "      <td>32538.000000</td>\n",
       "      <td>281.000000</td>\n",
       "    </tr>\n",
       "  </tbody>\n",
       "</table>\n",
       "</div>"
      ],
      "text/plain": [
       "             overall          vote  len_reviewText    len_summary\n",
       "count  400000.000000  69187.000000   400000.000000  400000.000000\n",
       "mean        4.021913      8.297874      401.701430      23.415335\n",
       "std         1.405282     26.797440      825.585574      18.747273\n",
       "min         1.000000      2.000000        0.000000       0.000000\n",
       "25%         3.000000      2.000000       55.000000      10.000000\n",
       "50%         5.000000      4.000000      152.000000      16.000000\n",
       "75%         5.000000      7.000000      399.000000      31.000000\n",
       "max         5.000000   3744.000000    32538.000000     281.000000"
      ]
     },
     "execution_count": 60,
     "metadata": {},
     "output_type": "execute_result"
    }
   ],
   "source": [
    "data[['overall', 'vote', 'len_reviewText', 'len_summary']].describe()"
   ]
  },
  {
   "cell_type": "code",
   "execution_count": null,
   "metadata": {},
   "outputs": [],
   "source": [
    "#Histogram on months, extract months for each review and bar plot count per months**\n",
    "#Bivariative: "
   ]
  },
  {
   "cell_type": "markdown",
   "metadata": {},
   "source": [
    "## 2. Predictive Task (Baseline)"
   ]
  },
  {
   "cell_type": "code",
   "execution_count": 61,
   "metadata": {},
   "outputs": [],
   "source": [
    "wordCount = defaultdict(int)\n",
    "for d in data['reviewText']:\n",
    "    for w in re.sub(r'[^\\w\\s]',' ', d.lower()).split():\n",
    "        #w = stemmer.stem(w)\n",
    "        wordCount[w] += 1"
   ]
  },
  {
   "cell_type": "code",
   "execution_count": 62,
   "metadata": {},
   "outputs": [
    {
     "data": {
      "text/plain": [
       "[('the', 1590562),\n",
       " ('and', 825225),\n",
       " ('i', 780432),\n",
       " ('to', 770011),\n",
       " ('a', 742327),\n",
       " ('it', 709300),\n",
       " ('is', 518230),\n",
       " ('of', 511323),\n",
       " ('you', 472437),\n",
       " ('game', 465339)]"
      ]
     },
     "execution_count": 62,
     "metadata": {},
     "output_type": "execute_result"
    }
   ],
   "source": [
    "most_common = sorted(wordCount.items(), key=lambda x:x[1], reverse = True)\n",
    "most_common[:10]"
   ]
  },
  {
   "cell_type": "code",
   "execution_count": 63,
   "metadata": {},
   "outputs": [],
   "source": [
    "words = [w[0] for w in most_common[:1000]]\n",
    "wordId = dict(zip(words, range(len(words))))\n",
    "wordSet = set(words)"
   ]
  },
  {
   "cell_type": "code",
   "execution_count": 64,
   "metadata": {},
   "outputs": [],
   "source": [
    "def feature(datum):\n",
    "    feat = [0]*len(wordSet)\n",
    "    if type(datum) == float:\n",
    "        print('float here', datum)\n",
    "    words = re.sub(r'[^\\w\\s]',' ', datum.lower()).split()\n",
    "    for w in words:\n",
    "        if not (w in wordSet): continue\n",
    "        feat[wordId[w]] += 1\n",
    "    #feat.append(1)\n",
    "    return feat"
   ]
  },
  {
   "cell_type": "code",
   "execution_count": 65,
   "metadata": {},
   "outputs": [],
   "source": [
    "X = [feature(d) for d in data['reviewText']]\n",
    "y = [d for d in data['overall']]"
   ]
  },
  {
   "cell_type": "code",
   "execution_count": 66,
   "metadata": {},
   "outputs": [],
   "source": [
    "clf = linear_model.Ridge(1.0, fit_intercept=True) # MSE + 1.0 l2\n",
    "clf.fit(X, y)\n",
    "theta = clf.coef_"
   ]
  },
  {
   "cell_type": "code",
   "execution_count": 67,
   "metadata": {},
   "outputs": [],
   "source": [
    "test_data = df.sample(n = 100000)\n",
    "\n",
    "test_data['vote'] = test_data['vote'].replace(np.nan, 0).str.replace(',', '').astype(float)\n",
    "test_data['reviewText'] = test_data['reviewText'].replace(np.nan, '')\n",
    "test_data['summary'] = test_data['summary'].replace(np.nan, '')"
   ]
  },
  {
   "cell_type": "code",
   "execution_count": 68,
   "metadata": {},
   "outputs": [],
   "source": [
    "test_x = [feature(d) for d in test_data['reviewText']]\n",
    "test_y = [d for d in test_data['overall']]\n",
    "predictions = clf.predict(test_x)"
   ]
  },
  {
   "cell_type": "code",
   "execution_count": 69,
   "metadata": {},
   "outputs": [
    {
     "data": {
      "text/plain": [
       "1.3220734588625265"
      ]
     },
     "execution_count": 69,
     "metadata": {},
     "output_type": "execute_result"
    }
   ],
   "source": [
    "mse = []\n",
    "for overall, pred in zip(test_y, predictions):\n",
    "    mse.append((overall - pred)**2)\n",
    "\n",
    "sum(mse) / len(mse)"
   ]
  },
  {
   "cell_type": "code",
   "execution_count": 70,
   "metadata": {},
   "outputs": [],
   "source": [
    "#1.31971075\n",
    "#1.3025469\n",
    "#1.3220734588625265"
   ]
  },
  {
   "cell_type": "code",
   "execution_count": null,
   "metadata": {},
   "outputs": [],
   "source": []
  }
 ],
 "metadata": {
  "kernelspec": {
   "display_name": "Python 3",
   "language": "python",
   "name": "python3"
  },
  "language_info": {
   "codemirror_mode": {
    "name": "ipython",
    "version": 3
   },
   "file_extension": ".py",
   "mimetype": "text/x-python",
   "name": "python",
   "nbconvert_exporter": "python",
   "pygments_lexer": "ipython3",
   "version": "3.8.3"
  }
 },
 "nbformat": 4,
 "nbformat_minor": 4
}
